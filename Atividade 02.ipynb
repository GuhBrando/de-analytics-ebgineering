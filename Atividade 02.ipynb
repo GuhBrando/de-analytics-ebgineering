{
 "cells": [
  {
   "cell_type": "markdown",
   "id": "23138ed9",
   "metadata": {},
   "source": [
    "## Atividade 02"
   ]
  },
  {
   "cell_type": "markdown",
   "id": "cbcef764",
   "metadata": {},
   "source": [
    "Vamos praticar a criação de várias expectativas para um dataset público. \n",
    "Para isso, vamos utilizar o dataset Titanic disponível no Kaggle. \n",
    "Este dataset contém informações sobre os passageiros do navio Titanic, incluindo informações como nome, idade, sexo, classe da cabine e se sobreviveram ou não ao naufrágio."
   ]
  },
  {
   "cell_type": "markdown",
   "id": "2faaaa42",
   "metadata": {},
   "source": [
    "### 1. Importando os dados"
   ]
  },
  {
   "cell_type": "markdown",
   "id": "b834df98",
   "metadata": {},
   "source": [
    "1.1 Crie um objeto DataContext"
   ]
  },
  {
   "cell_type": "code",
   "execution_count": 1,
   "id": "7cdcc5e7",
   "metadata": {},
   "outputs": [],
   "source": [
    "import great_expectations as gx\n",
    "\n",
    "context = gx.get_context()"
   ]
  },
  {
   "cell_type": "markdown",
   "id": "5c8cb693",
   "metadata": {},
   "source": [
    "1.2 Salve o Contexto de Dados no Sistema de Arquivos"
   ]
  },
  {
   "cell_type": "code",
   "execution_count": 58,
   "id": "9573da41",
   "metadata": {},
   "outputs": [
    {
     "ename": "AttributeError",
     "evalue": "'FileDataContext' object has no attribute 'convert_to_file_context'",
     "output_type": "error",
     "traceback": [
      "\u001b[1;31m---------------------------------------------------------------------------\u001b[0m",
      "\u001b[1;31mAttributeError\u001b[0m                            Traceback (most recent call last)",
      "\u001b[1;32mc:\\Users\\TheDa\\Downloads\\de-analytics-ebgineering-main\\Atividade 02.ipynb Cell 7\u001b[0m in \u001b[0;36m1\n\u001b[1;32m----> <a href='vscode-notebook-cell:/c%3A/Users/TheDa/Downloads/de-analytics-ebgineering-main/Atividade%2002.ipynb#W6sZmlsZQ%3D%3D?line=0'>1</a>\u001b[0m context\u001b[39m.\u001b[39;49mconvert_to_file_context()\n",
      "\u001b[1;31mAttributeError\u001b[0m: 'FileDataContext' object has no attribute 'convert_to_file_context'"
     ]
    }
   ],
   "source": [
    "context.convert_to_file_context()\n"
   ]
  },
  {
   "cell_type": "markdown",
   "id": "c76e8eed",
   "metadata": {},
   "source": [
    "1.3 Crie um validator e carregue o dataset Titanic: https://storage.googleapis.com/tf-datasets/titanic/train.csv"
   ]
  },
  {
   "cell_type": "code",
   "execution_count": 2,
   "id": "98950c89",
   "metadata": {},
   "outputs": [],
   "source": [
    "validator = context.sources.pandas_default.read_csv(r\"C:\\Users\\TheDa\\Downloads\\de-analytics-ebgineering-main\\data\\train.csv\")"
   ]
  },
  {
   "cell_type": "markdown",
   "id": "d5730ec2",
   "metadata": {},
   "source": [
    "### 2. Definindo expectativas"
   ]
  },
  {
   "cell_type": "markdown",
   "id": "f547f924",
   "metadata": {},
   "source": [
    "Agora que temos o dataframe, podemos começar a criar expectativas sobre os dados. "
   ]
  },
  {
   "cell_type": "markdown",
   "id": "ec091cea",
   "metadata": {},
   "source": [
    "2.1 Crie uma expectativa que defina que as colunas do dataframe estão na ordem correta. "
   ]
  },
  {
   "cell_type": "code",
   "execution_count": 3,
   "id": "4b0b3fb5",
   "metadata": {},
   "outputs": [
    {
     "data": {
      "application/vnd.jupyter.widget-view+json": {
       "model_id": "9097695d91d942f8bf74030bbb039db4",
       "version_major": 2,
       "version_minor": 0
      },
      "text/plain": [
       "Calculating Metrics:   0%|          | 0/2 [00:00<?, ?it/s]"
      ]
     },
     "metadata": {},
     "output_type": "display_data"
    },
    {
     "data": {
      "text/plain": [
       "{\n",
       "  \"meta\": {},\n",
       "  \"result\": {\n",
       "    \"observed_value\": [\n",
       "      \"survived\",\n",
       "      \"sex\",\n",
       "      \"age\",\n",
       "      \"n_siblings_spouses\",\n",
       "      \"parch\",\n",
       "      \"fare\",\n",
       "      \"class\",\n",
       "      \"deck\",\n",
       "      \"embark_town\",\n",
       "      \"alone\"\n",
       "    ]\n",
       "  },\n",
       "  \"exception_info\": {\n",
       "    \"raised_exception\": false,\n",
       "    \"exception_traceback\": null,\n",
       "    \"exception_message\": null\n",
       "  },\n",
       "  \"success\": true\n",
       "}"
      ]
     },
     "execution_count": 3,
     "metadata": {},
     "output_type": "execute_result"
    }
   ],
   "source": [
    "validator.expect_table_columns_to_match_ordered_list([\"survived\",\"sex\",\"age\",\"n_siblings_spouses\",\"parch\",\"fare\",\"class\",\"deck\",\"embark_town\",\"alone\"])"
   ]
  },
  {
   "cell_type": "markdown",
   "id": "a1c9913c",
   "metadata": {},
   "source": [
    "2.2 Agora crie uma expectativa para verificar se os valores da coluna \"Survived\" só podem ser 0 ou 1. "
   ]
  },
  {
   "cell_type": "code",
   "execution_count": 4,
   "id": "dd124c39",
   "metadata": {},
   "outputs": [
    {
     "data": {
      "application/vnd.jupyter.widget-view+json": {
       "model_id": "8d0c4a79813a42df97f8cd468ae72163",
       "version_major": 2,
       "version_minor": 0
      },
      "text/plain": [
       "Calculating Metrics:   0%|          | 0/8 [00:00<?, ?it/s]"
      ]
     },
     "metadata": {},
     "output_type": "display_data"
    },
    {
     "data": {
      "text/plain": [
       "{\n",
       "  \"meta\": {},\n",
       "  \"result\": {\n",
       "    \"element_count\": 627,\n",
       "    \"unexpected_count\": 0,\n",
       "    \"unexpected_percent\": 0.0,\n",
       "    \"partial_unexpected_list\": [],\n",
       "    \"missing_count\": 0,\n",
       "    \"missing_percent\": 0.0,\n",
       "    \"unexpected_percent_total\": 0.0,\n",
       "    \"unexpected_percent_nonmissing\": 0.0\n",
       "  },\n",
       "  \"exception_info\": {\n",
       "    \"raised_exception\": false,\n",
       "    \"exception_traceback\": null,\n",
       "    \"exception_message\": null\n",
       "  },\n",
       "  \"success\": true\n",
       "}"
      ]
     },
     "execution_count": 4,
     "metadata": {},
     "output_type": "execute_result"
    }
   ],
   "source": [
    "validator.expect_column_values_to_be_between(column='Survived', min_value=0, max_value=1)"
   ]
  },
  {
   "attachments": {},
   "cell_type": "markdown",
   "id": "b54e26a6",
   "metadata": {},
   "source": [
    "2.3 Defina que a coluna \"class\" só pode ter valores de 1 a 3. "
   ]
  },
  {
   "cell_type": "code",
   "execution_count": 5,
   "id": "5599b71c",
   "metadata": {},
   "outputs": [
    {
     "data": {
      "application/vnd.jupyter.widget-view+json": {
       "model_id": "0e9fc4ee2f7546a09afe5f7c1df57aac",
       "version_major": 2,
       "version_minor": 0
      },
      "text/plain": [
       "Calculating Metrics:   0%|          | 0/8 [00:00<?, ?it/s]"
      ]
     },
     "metadata": {},
     "output_type": "display_data"
    },
    {
     "data": {
      "text/plain": [
       "{\n",
       "  \"meta\": {},\n",
       "  \"result\": {\n",
       "    \"element_count\": 627,\n",
       "    \"unexpected_count\": 0,\n",
       "    \"unexpected_percent\": 0.0,\n",
       "    \"partial_unexpected_list\": [],\n",
       "    \"missing_count\": 0,\n",
       "    \"missing_percent\": 0.0,\n",
       "    \"unexpected_percent_total\": 0.0,\n",
       "    \"unexpected_percent_nonmissing\": 0.0\n",
       "  },\n",
       "  \"exception_info\": {\n",
       "    \"raised_exception\": false,\n",
       "    \"exception_traceback\": null,\n",
       "    \"exception_message\": null\n",
       "  },\n",
       "  \"success\": true\n",
       "}"
      ]
     },
     "execution_count": 5,
     "metadata": {},
     "output_type": "execute_result"
    }
   ],
   "source": [
    "validator.expect_column_values_to_be_between(column='parch', min_value=0, max_value=5, meta=None)"
   ]
  },
  {
   "cell_type": "markdown",
   "id": "76105e56",
   "metadata": {},
   "source": [
    "2.4 Crie expectativas para verificar se as colunas \"Survived\" e \"Pclass\" existem no dataframe."
   ]
  },
  {
   "cell_type": "code",
   "execution_count": 6,
   "id": "46690b23",
   "metadata": {},
   "outputs": [
    {
     "data": {
      "application/vnd.jupyter.widget-view+json": {
       "model_id": "32e87985a653444abd53f03aef2a730a",
       "version_major": 2,
       "version_minor": 0
      },
      "text/plain": [
       "Calculating Metrics:   0%|          | 0/2 [00:00<?, ?it/s]"
      ]
     },
     "metadata": {},
     "output_type": "display_data"
    },
    {
     "data": {
      "application/vnd.jupyter.widget-view+json": {
       "model_id": "96b8d157b9b640fea9781cfacea9ce4f",
       "version_major": 2,
       "version_minor": 0
      },
      "text/plain": [
       "Calculating Metrics:   0%|          | 0/2 [00:00<?, ?it/s]"
      ]
     },
     "metadata": {},
     "output_type": "display_data"
    },
    {
     "data": {
      "text/plain": [
       "{\n",
       "  \"meta\": {},\n",
       "  \"result\": {},\n",
       "  \"exception_info\": {\n",
       "    \"raised_exception\": false,\n",
       "    \"exception_traceback\": null,\n",
       "    \"exception_message\": null\n",
       "  },\n",
       "  \"success\": false\n",
       "}"
      ]
     },
     "execution_count": 6,
     "metadata": {},
     "output_type": "execute_result"
    }
   ],
   "source": [
    "validator.expect_column_to_exist(\"survived\")\n",
    "validator.expect_column_to_exist(\"Pclass\")"
   ]
  },
  {
   "cell_type": "markdown",
   "id": "ae22121f",
   "metadata": {},
   "source": [
    "2.5 Verifique se os valores das colunas \"Age\" e \"Fare\" não são nulos e se estão dentro de um intervalo razoável (0 a 100 para \"Age\" w 0 a 100 para \"Fare\"."
   ]
  },
  {
   "cell_type": "code",
   "execution_count": 7,
   "id": "e0d1c2c6",
   "metadata": {},
   "outputs": [
    {
     "data": {
      "application/vnd.jupyter.widget-view+json": {
       "model_id": "7adbed92c5f84e2e8396dc856e19ba4a",
       "version_major": 2,
       "version_minor": 0
      },
      "text/plain": [
       "Calculating Metrics:   0%|          | 0/8 [00:00<?, ?it/s]"
      ]
     },
     "metadata": {},
     "output_type": "display_data"
    },
    {
     "data": {
      "application/vnd.jupyter.widget-view+json": {
       "model_id": "0fb2d7b250ac44eba76fd1f7a747fb13",
       "version_major": 2,
       "version_minor": 0
      },
      "text/plain": [
       "Calculating Metrics:   0%|          | 0/6 [00:00<?, ?it/s]"
      ]
     },
     "metadata": {},
     "output_type": "display_data"
    },
    {
     "data": {
      "application/vnd.jupyter.widget-view+json": {
       "model_id": "515b5c9a99cd4055a7a6d08e5d64abd0",
       "version_major": 2,
       "version_minor": 0
      },
      "text/plain": [
       "Calculating Metrics:   0%|          | 0/8 [00:00<?, ?it/s]"
      ]
     },
     "metadata": {},
     "output_type": "display_data"
    },
    {
     "data": {
      "application/vnd.jupyter.widget-view+json": {
       "model_id": "cbbb5d627e8d493a965ea5f538ca41c4",
       "version_major": 2,
       "version_minor": 0
      },
      "text/plain": [
       "Calculating Metrics:   0%|          | 0/6 [00:00<?, ?it/s]"
      ]
     },
     "metadata": {},
     "output_type": "display_data"
    },
    {
     "data": {
      "text/plain": [
       "{\n",
       "  \"meta\": {},\n",
       "  \"result\": {\n",
       "    \"element_count\": 627,\n",
       "    \"unexpected_count\": 0,\n",
       "    \"unexpected_percent\": 0.0,\n",
       "    \"partial_unexpected_list\": []\n",
       "  },\n",
       "  \"exception_info\": {\n",
       "    \"raised_exception\": false,\n",
       "    \"exception_traceback\": null,\n",
       "    \"exception_message\": null\n",
       "  },\n",
       "  \"success\": true\n",
       "}"
      ]
     },
     "execution_count": 7,
     "metadata": {},
     "output_type": "execute_result"
    }
   ],
   "source": [
    "validator.expect_column_values_to_be_between(column='Age', min_value=0, max_value=100)\n",
    "validator.expect_column_values_to_not_be_null(\"age\")\n",
    "validator.expect_column_values_to_be_between(column='Fare', min_value=0, max_value=100)\n",
    "validator.expect_column_values_to_not_be_null(\"fare\")"
   ]
  },
  {
   "cell_type": "markdown",
   "id": "dbe9d33b",
   "metadata": {},
   "source": [
    "2.6 Define que a coluna \"Sex\" só pode ter os valores \"male\" ou \"female\"."
   ]
  },
  {
   "cell_type": "code",
   "execution_count": 8,
   "id": "42691be5",
   "metadata": {},
   "outputs": [
    {
     "data": {
      "application/vnd.jupyter.widget-view+json": {
       "model_id": "f4656ac2ae3a4c16bec5a5fd980dc1f1",
       "version_major": 2,
       "version_minor": 0
      },
      "text/plain": [
       "Calculating Metrics:   0%|          | 0/8 [00:00<?, ?it/s]"
      ]
     },
     "metadata": {},
     "output_type": "display_data"
    },
    {
     "data": {
      "text/plain": [
       "{\n",
       "  \"meta\": {},\n",
       "  \"result\": {\n",
       "    \"element_count\": 627,\n",
       "    \"unexpected_count\": 0,\n",
       "    \"unexpected_percent\": 0.0,\n",
       "    \"partial_unexpected_list\": [],\n",
       "    \"missing_count\": 0,\n",
       "    \"missing_percent\": 0.0,\n",
       "    \"unexpected_percent_total\": 0.0,\n",
       "    \"unexpected_percent_nonmissing\": 0.0\n",
       "  },\n",
       "  \"exception_info\": {\n",
       "    \"raised_exception\": false,\n",
       "    \"exception_traceback\": null,\n",
       "    \"exception_message\": null\n",
       "  },\n",
       "  \"success\": true\n",
       "}"
      ]
     },
     "execution_count": 8,
     "metadata": {},
     "output_type": "execute_result"
    }
   ],
   "source": [
    "validator.expect_column_values_to_be_in_set(\"Sex\", [\"male\", \"female\"])"
   ]
  },
  {
   "cell_type": "markdown",
   "id": "35a0f4be",
   "metadata": {},
   "source": [
    "### 3. Executando as Expectativas"
   ]
  },
  {
   "cell_type": "markdown",
   "id": "6a430083",
   "metadata": {},
   "source": [
    "3.1 Defina um Checkpoint e execute-o para receber os resultados do validator."
   ]
  },
  {
   "cell_type": "code",
   "execution_count": 9,
   "id": "86d267c7",
   "metadata": {},
   "outputs": [],
   "source": [
    "checkpoint = gx.checkpoint.SimpleCheckpoint(name=\"checkpoint\", data_context=context, validator=validator)\n"
   ]
  },
  {
   "cell_type": "code",
   "execution_count": 10,
   "id": "9420c10c",
   "metadata": {},
   "outputs": [
    {
     "data": {
      "application/vnd.jupyter.widget-view+json": {
       "model_id": "2aecd49faca14b5ab221bc7c30cfeb65",
       "version_major": 2,
       "version_minor": 0
      },
      "text/plain": [
       "Calculating Metrics:   0%|          | 0/48 [00:00<?, ?it/s]"
      ]
     },
     "metadata": {},
     "output_type": "display_data"
    }
   ],
   "source": [
    "check_result = checkpoint.run()"
   ]
  },
  {
   "cell_type": "code",
   "execution_count": 11,
   "id": "a5f51f3d",
   "metadata": {},
   "outputs": [],
   "source": [
    "val_result_identifier = check_result.list_validation_result_identifiers()[0]"
   ]
  },
  {
   "cell_type": "code",
   "execution_count": 12,
   "id": "e705af2d",
   "metadata": {},
   "outputs": [
    {
     "ename": "AttributeError",
     "evalue": "'FileDataContext' object has no attribute 'convert_to_file_context'",
     "output_type": "error",
     "traceback": [
      "\u001b[1;31m---------------------------------------------------------------------------\u001b[0m",
      "\u001b[1;31mAttributeError\u001b[0m                            Traceback (most recent call last)",
      "\u001b[1;32mc:\\Users\\TheDa\\Downloads\\de-analytics-ebgineering-main\\Atividade 02.ipynb Cell 29\u001b[0m in \u001b[0;36m1\n\u001b[1;32m----> <a href='vscode-notebook-cell:/c%3A/Users/TheDa/Downloads/de-analytics-ebgineering-main/Atividade%2002.ipynb#X40sZmlsZQ%3D%3D?line=0'>1</a>\u001b[0m context\u001b[39m.\u001b[39;49mconvert_to_file_context()\n",
      "\u001b[1;31mAttributeError\u001b[0m: 'FileDataContext' object has no attribute 'convert_to_file_context'"
     ]
    }
   ],
   "source": [
    "context.convert_to_file_context()"
   ]
  }
 ],
 "metadata": {
  "kernelspec": {
   "display_name": "Python 3",
   "language": "python",
   "name": "python3"
  },
  "language_info": {
   "codemirror_mode": {
    "name": "ipython",
    "version": 3
   },
   "file_extension": ".py",
   "mimetype": "text/x-python",
   "name": "python",
   "nbconvert_exporter": "python",
   "pygments_lexer": "ipython3",
   "version": "3.9.6"
  }
 },
 "nbformat": 4,
 "nbformat_minor": 5
}
